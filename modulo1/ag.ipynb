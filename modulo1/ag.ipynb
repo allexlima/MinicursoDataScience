{
 "cells": [
  {
   "cell_type": "markdown",
   "metadata": {},
   "source": [
    "# Algoritmos Genéticos\n",
    "\n",
    "Algoritmos genéticos (AGs) são uma classe de algoritmos de otimização inspirada no processo evolutivo biológico, que fazem parte do que se chama de computação evolutiva. AGs são inspirados em modelos biológicos, e se fundamentam na Genética de Mendel (1965) e também na Teoria da Evolução de Darwin (1959), usando uma medida para avaliar a capacidade que os indivíduos de uma população têm para sobriver e se reproduzir.\n",
    "\n",
    "Dessa forma, espera-se que as características dos indivíduos ''mais aptos'', que se reproduzem, em uma geração sejam  transferidas para a próxima geração. Em linhas gerais, esses algoritmos criam diversas soluções aleatoriamente para um problema, das quais serão selecionadas as que apresentarem melhor performance (ou fitness, em inglês). Mais soluções são geradas a partir das selecionadas, e esse processo é repetido diversas vezes até que se encontre uma solução satisfatória. Esse processo é análogo à seleção natural, pensando-se em uma população de soluções (cada solução seria um indivíduo).\n",
    "\n",
    "<img src='https://miro.medium.com/max/1039/1*VCu7NNV3XbpLfJbcTng1Eg.png' width='500px'/>\n",
    "\n",
    "Como o algoritmo é baseado num conceito biológico, em geral, utilizamos alguns jargões da biologia quando falamos de aspectos do AG. Na tabela a seguir, você pode verificar as analogias entre alguns termos utilizados na biologia e em AGs:\n",
    "\n",
    "<img src='https://miro.medium.com/max/848/1*dnQ2bIeT0zHCNtChz5i3Yg.png' width='500px'/>"
   ]
  },
  {
   "cell_type": "markdown",
   "metadata": {},
   "source": [
    "## Overview\n",
    "\n",
    "A ideia do algoritmo genético é selecionar as melhores soluções de um problema e fazer com que elas se perpetuem. Podemos definir como um pseudocódigo do AG o seguinte:\n",
    "\n",
    "\n",
    "    ENTRADA: População Inicial (aleatória)\n",
    "             Função de Fitness\n",
    "             Critério de Parada\n",
    "             \n",
    "    REPITA (até que o critério de parada seja atendido):\n",
    "    \n",
    "        PASSO 1: Aplicar a função de fitness a cada indivíduo\n",
    "        PASSO 2: Selecionar os x melhores indivíduos\n",
    "        PASSO 3: Reprodução\n",
    "                - Aplicar o crossover a um par (com prob = p)\n",
    "                - Aplicar mutação (com prob = p’)\n",
    "        PASSO 4: Formar uma nova população com os filhos gerados\n",
    "  \n",
    "  \n",
    "    SAÍDA: Melhor indivíduo presente na geração final    \n"
   ]
  },
  {
   "cell_type": "markdown",
   "metadata": {},
   "source": [
    "## O que iremos fazer?\n",
    "\n",
    "Neste *notebook*, iremos utilizar AGs para criar um modelo capaz de jogar o [chrome-trex-rush](https://github.com/fernandokm/chrome-trex-rush) -- uma versão, em Python, do *game* T-Rex embutido no Google Chrome. \n",
    "\n",
    "Assim, o nosso modelo que controlará o dinossauro poderá assumir três possíveis ações:\n",
    "    - Pular\n",
    "    - Agachar\n",
    "    - Não fazer nada\n",
    "\n",
    "\n",
    "Nossa função de decisão não nos retornará um número, mas sim um vetor com três números (um para cada ação) e nós vamos escolher a ação cuja função nos dê o maior output dentre os três.\n",
    "\n",
    "Para instalarmos esse pacote, basta executar a célula abaixo:"
   ]
  },
  {
   "cell_type": "code",
   "execution_count": 2,
   "metadata": {},
   "outputs": [
    {
     "name": "stdout",
     "output_type": "stream",
     "text": [
      "Collecting git+https://github.com/fernandokm/chrome-trex-rush@master\n",
      "  Cloning https://github.com/fernandokm/chrome-trex-rush (to revision master) to /tmp/pip-req-build-s7dckj__\n",
      "  Running command git clone -q https://github.com/fernandokm/chrome-trex-rush /tmp/pip-req-build-s7dckj__\n",
      "^C\n",
      "\u001b[31mERROR: Operation cancelled by user\u001b[0m\n"
     ]
    }
   ],
   "source": [
    "! pip install --user git+https://github.com/fernandokm/chrome-trex-rush@master"
   ]
  },
  {
   "cell_type": "markdown",
   "metadata": {},
   "source": [
    "## Go!"
   ]
  },
  {
   "cell_type": "code",
   "execution_count": 10,
   "metadata": {},
   "outputs": [],
   "source": [
    "import seaborn as sns\n",
    "\n",
    "%matplotlib inline"
   ]
  },
  {
   "cell_type": "code",
   "execution_count": 3,
   "metadata": {},
   "outputs": [],
   "source": [
    "import numpy as np\n",
    "import random\n",
    "# from chrome_trex import DinoGame\n",
    "\n",
    "CHANCE_MUT = .20     # Chance de mutação de um peso qualquer\n",
    "CHANCE_CO = .25      # Chance de crossing over de um peso qualquer\n",
    "NUM_INDIVIDUOS = 15  # Tamanho da população\n",
    "NUM_MELHORES = 3     # Número de indivíduos que são mantidos de uma geração para a próxima"
   ]
  },
  {
   "cell_type": "code",
   "execution_count": 6,
   "metadata": {},
   "outputs": [],
   "source": [
    "def populacao_aleatoria(n):\n",
    "    \"\"\"\n",
    "    Argumentos da Função:\n",
    "        n: Número de indivíduos\n",
    "    Saída:\n",
    "        Uma população aleatória. População é uma lista de indivíduos,\n",
    "        e cada indivíduo é uma matriz 3x10 de pesos (números).\n",
    "        Os indivíduos podem tomar 3 ações (0, 1, 2) e cada linha da matriz\n",
    "        contém os pesos associados a uma das ações.\n",
    "    \"\"\"\n",
    "    return [np.random.uniform(-10, 10, size=(3, 10)) for i in range(n)]"
   ]
  },
  {
   "cell_type": "code",
   "execution_count": null,
   "metadata": {},
   "outputs": [
    {
     "name": "stdout",
     "output_type": "stream",
     "text": [
      "Collecting matplotlib==3.0.3\n",
      "\u001b[?25l  Downloading https://files.pythonhosted.org/packages/83/2a/e47bbd9396af32376863a426baed62d9bf3091f81defd1fe81c5f33b11a3/matplotlib-3.0.3-cp37-cp37m-manylinux1_x86_64.whl (13.0MB)\n",
      "\u001b[K     |██████████████████▋             | 7.6MB 11kB/s eta 0:08:10"
     ]
    }
   ],
   "source": [
    "! pip install matplotlib==3.0.3"
   ]
  },
  {
   "cell_type": "code",
   "execution_count": 13,
   "metadata": {},
   "outputs": [
    {
     "data": {
      "text/plain": [
       "<matplotlib.axes._subplots.AxesSubplot at 0x7fd022329160>"
      ]
     },
     "execution_count": 13,
     "metadata": {},
     "output_type": "execute_result"
    },
    {
     "data": {
      "image/png": "[encoded data removed]",
      "text/plain": [
       "<Figure size 432x288 with 2 Axes>"
      ]
     },
     "metadata": {
      "needs_background": "light"
     },
     "output_type": "display_data"
    }
   ],
   "source": [
    "sns.heatmap(populacao_aleatoria(2)[0],annot=True, cmap='gray')"
   ]
  },
  {
   "cell_type": "markdown",
   "metadata": {},
   "source": [
    "--- \n",
    "<span style='font-family: verdana; color: gray'>Notebook baseado no artigo <a href='https://medium.com/turing-talks/turing-talks-8-algoritmos-gen%C3%A9ticos-a791c25bd7ba'>Algoritmos Genéticos: Um primeiro modelo de Machine Learning baseado na seleção natural</a>, do blog <b>TuringTalks</b>.</span>"
   ]
  }
 ],
 "metadata": {
  "kernelspec": {
   "display_name": "Python 3",
   "language": "python",
   "name": "python3"
  },
  "language_info": {
   "codemirror_mode": {
    "name": "ipython",
    "version": 3
   },
   "file_extension": ".py",
   "mimetype": "text/x-python",
   "name": "python",
   "nbconvert_exporter": "python",
   "pygments_lexer": "ipython3",
   "version": "3.7.3"
  }
 },
 "nbformat": 4,
 "nbformat_minor": 2
}
